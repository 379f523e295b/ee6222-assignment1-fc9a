{
 "cells": [
  {
   "cell_type": "code",
   "execution_count": 3,
   "metadata": {},
   "outputs": [
    {
     "ename": "AttributeError",
     "evalue": "module 'tensorflow._api.v2.experimental' has no attribute 'data'",
     "output_type": "error",
     "traceback": [
      "\u001b[0;31m-------------------------------------------------------------\u001b[0m",
      "\u001b[0;31mAttributeError\u001b[0m              Traceback (most recent call last)",
      "\u001b[1;32m/home/chen1682/lab/ntu/ee6222/assignments/1/temp_tfds.ipynb Cell 1\u001b[0m line \u001b[0;36m2\n\u001b[1;32m     <a href='vscode-notebook-cell://tunnel%2Bhvaclab/home/chen1682/lab/ntu/ee6222/assignments/1/temp_tfds.ipynb#W0sdnNjb2RlLXJlbW90ZQ%3D%3D?line=17'>18</a>\u001b[0m \u001b[39mdef\u001b[39;00m \u001b[39mfinalize_func\u001b[39m(state):\n\u001b[1;32m     <a href='vscode-notebook-cell://tunnel%2Bhvaclab/home/chen1682/lab/ntu/ee6222/assignments/1/temp_tfds.ipynb#W0sdnNjb2RlLXJlbW90ZQ%3D%3D?line=18'>19</a>\u001b[0m     \u001b[39mreturn\u001b[39;00m state\n\u001b[0;32m---> <a href='vscode-notebook-cell://tunnel%2Bhvaclab/home/chen1682/lab/ntu/ee6222/assignments/1/temp_tfds.ipynb#W0sdnNjb2RlLXJlbW90ZQ%3D%3D?line=20'>21</a>\u001b[0m reducer \u001b[39m=\u001b[39m tf\u001b[39m.\u001b[39;49mexperimental\u001b[39m.\u001b[39;49mdata\u001b[39m.\u001b[39mReducer(init_func, reduce_func, finalize_func)\n\u001b[1;32m     <a href='vscode-notebook-cell://tunnel%2Bhvaclab/home/chen1682/lab/ntu/ee6222/assignments/1/temp_tfds.ipynb#W0sdnNjb2RlLXJlbW90ZQ%3D%3D?line=22'>23</a>\u001b[0m \u001b[39m# Group by reducer\u001b[39;00m\n\u001b[1;32m     <a href='vscode-notebook-cell://tunnel%2Bhvaclab/home/chen1682/lab/ntu/ee6222/assignments/1/temp_tfds.ipynb#W0sdnNjb2RlLXJlbW90ZQ%3D%3D?line=23'>24</a>\u001b[0m \u001b[39m# Group the data by id\u001b[39;00m\n\u001b[1;32m     <a href='vscode-notebook-cell://tunnel%2Bhvaclab/home/chen1682/lab/ntu/ee6222/assignments/1/temp_tfds.ipynb#W0sdnNjb2RlLXJlbW90ZQ%3D%3D?line=24'>25</a>\u001b[0m \u001b[39mdef\u001b[39;00m \u001b[39mkey_f\u001b[39m(row):\n",
      "\u001b[0;31mAttributeError\u001b[0m: module 'tensorflow._api.v2.experimental' has no attribute 'data'"
     ]
    }
   ],
   "source": [
    "import tensorflow as tf\n",
    "#tf.enable_eager_execution()\n",
    "\n",
    "ids = [1, 2, 3, 1, 2, 3]\n",
    "features = [1, 2.2, 7, 3.0, 2, 3]\n",
    "\n",
    "# Define reducer\n",
    "# Reducer requires 3 functions - init_func, reduce_func, finalize_func. \n",
    "# init_func - to define initial value\n",
    "# reducer_func - operation to perform on values with same key\n",
    "# finalize_func - value to return in the end.\n",
    "def init_func(_):\n",
    "    return 0.0\n",
    "\n",
    "def reduce_func(state, value):\n",
    "    return state + value['features']\n",
    "\n",
    "def finalize_func(state):\n",
    "    return state\n",
    "\n",
    "reducer = tf.experimental.data.Reducer(init_func, reduce_func, finalize_func)\n",
    "\n",
    "# Group by reducer\n",
    "# Group the data by id\n",
    "def key_f(row):\n",
    "    return tf.to_int64(row['ids'])\n",
    "\n",
    "t = tf.contrib.data.group_by_reducer(\n",
    "        key_func = key_f,\n",
    "        reducer = reducer)\n",
    "\n",
    "ds = tf.data.Dataset.from_tensor_slices({'ids':ids, 'features' : features})\n",
    "ds = ds.apply(t)\n",
    "ds = ds.batch(6)\n",
    "\n",
    "iterator = ds.make_one_shot_iterator()\n",
    "data = iterator.get_next()\n",
    "print(data)"
   ]
  },
  {
   "cell_type": "code",
   "execution_count": 8,
   "metadata": {},
   "outputs": [
    {
     "name": "stdout",
     "output_type": "stream",
     "text": [
      "{'frameseq': 'a', 'label': 0}\n",
      "{'frameseq': 'adfsahjk', 'label': 1}\n",
      "{'frameseq': 'aasfd', 'label': 2}\n",
      "{'frameseq': 'a', 'label': 0}\n"
     ]
    }
   ],
   "source": [
    "import itertools\n",
    "\n",
    "\n",
    "for k, g in (\n",
    "itertools.groupby([\n",
    "    {'frameseq': 'a', 'label': 0},\n",
    "    {'frameseq': 'a', 'label': 0},\n",
    "    {'frameseq': 'adfsahjk', 'label': 1},\n",
    "    {'frameseq': 'aasfd', 'label': 2},\n",
    "    {'frameseq': 'a', 'label': 0},\n",
    "], key=lambda x: x['label'])\n",
    "\n",
    "):\n",
    "    print(next(iter(g)))"
   ]
  }
 ],
 "metadata": {
  "kernelspec": {
   "display_name": "essentials",
   "language": "python",
   "name": "python3"
  },
  "language_info": {
   "codemirror_mode": {
    "name": "ipython",
    "version": 3
   },
   "file_extension": ".py",
   "mimetype": "text/x-python",
   "name": "python",
   "nbconvert_exporter": "python",
   "pygments_lexer": "ipython3",
   "version": "3.11.6"
  }
 },
 "nbformat": 4,
 "nbformat_minor": 2
}
