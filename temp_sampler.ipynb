{
 "cells": [
  {
   "cell_type": "code",
   "execution_count": 1,
   "id": "0a5ea35e-08d9-4542-81d8-2d3ce7ac3bbc",
   "metadata": {},
   "outputs": [
    {
     "name": "stderr",
     "output_type": "stream",
     "text": [
      "2023-11-16 22:10:00.470334: E tensorflow/compiler/xla/stream_executor/cuda/cuda_dnn.cc:9342] Unable to register cuDNN factory: Attempting to register factory for plugin cuDNN when one has already been registered\n",
      "2023-11-16 22:10:00.470354: E tensorflow/compiler/xla/stream_executor/cuda/cuda_fft.cc:609] Unable to register cuFFT factory: Attempting to register factory for plugin cuFFT when one has already been registered\n",
      "2023-11-16 22:10:00.470358: E tensorflow/compiler/xla/stream_executor/cuda/cuda_blas.cc:1518] Unable to register cuBLAS factory: Attempting to register factory for plugin cuBLAS when one has already been registered\n",
      "2023-11-16 22:10:00.473367: I tensorflow/core/platform/cpu_feature_guard.cc:182] This TensorFlow binary is optimized to use available CPU instructions in performance-critical operations.\n",
      "To enable the following instructions: SSE4.1 SSE4.2 AVX AVX2 FMA, in other operations, rebuild TensorFlow with the appropriate compiler flags.\n"
     ]
    }
   ],
   "source": [
    "import tensorflow as tf"
   ]
  },
  {
   "cell_type": "code",
   "execution_count": 79,
   "id": "6121c751-ae60-45d5-a22d-9c98ec8c09b7",
   "metadata": {},
   "outputs": [],
   "source": [
    "import tensorflow.keras as keras\n",
    "\n",
    "class _TODO_BatchIntervalSampling(keras.layers.Layer):\n",
    "    def __init__(self, num_samples, input_axis=0, **kwargs):\n",
    "        super().__init__(**kwargs)\n",
    "        self.num_samples = num_samples\n",
    "        self.input_axis = input_axis\n",
    "    \n",
    "    def call(self, inputs):\n",
    "        # TODO ref https://stackoverflow.com/a/64436208\n",
    "        def _impl_array_slice(\n",
    "            a, axis, \n",
    "            start, stop, \n",
    "            step=1,\n",
    "        ):\n",
    "            return a[\n",
    "                (slice(None),) * (axis % a.ndim) \n",
    "                + (slice(start, stop, step),)\n",
    "            ]\n",
    "        \n",
    "        def _impl_array_sample(\n",
    "            a, axis, \n",
    "            n_samples,\n",
    "            start, stop, \n",
    "        ):\n",
    "            # NOTE first + n * step == last\n",
    "            _aligned_interval = lambda first, last, n: (\n",
    "                first,\n",
    "                last - (last - first) % n,\n",
    "                (last - first) // n,\n",
    "            )\n",
    "\n",
    "            first, last, step = _aligned_interval(\n",
    "                start, stop - 1, \n",
    "                # NOTE number of intervals\n",
    "                n=n_samples - 1\n",
    "            )\n",
    "        \n",
    "            return _impl_array_slice(\n",
    "                a, axis=axis,\n",
    "                start=first, stop=last + 1,\n",
    "                step=step,\n",
    "            )\n",
    "\n",
    "        def _array_sample(\n",
    "            a, axis, \n",
    "            n_samples,\n",
    "            start=None, stop=None, \n",
    "        ):\n",
    "            if start is None: start = 0\n",
    "            if stop is None: stop = a.shape[axis]\n",
    "            return _impl_array_sample(\n",
    "                a, axis, \n",
    "                n_samples=n_samples,\n",
    "                start=start, stop=stop,\n",
    "            )\n",
    "\n",
    "        # TODO ratio\n",
    "        return tf.nest.map_structure(\n",
    "            lambda input: _array_sample(\n",
    "                input, axis=self.input_axis,\n",
    "                n_samples=self.num_samples,\n",
    "            ), \n",
    "            inputs,\n",
    "        )"
   ]
  },
  {
   "cell_type": "code",
   "execution_count": 78,
   "id": "f89aa0b1-9dd6-4620-917e-272bc7770a5a",
   "metadata": {},
   "outputs": [
    {
     "data": {
      "text/plain": [
       "<tf.Tensor: shape=(2, 2), dtype=int32, numpy=\n",
       "array([[ 0, 12],\n",
       "       [ 0, 12]], dtype=int32)>"
      ]
     },
     "execution_count": 78,
     "metadata": {},
     "output_type": "execute_result"
    }
   ],
   "source": [
    "\n",
    "\n",
    "\n",
    "def _TODO_rm_array_sample(a, axis, step=1):\n",
    "    return _array_slice(\n",
    "        a, axis=axis,\n",
    "        start=0,\n",
    "        stop=a.shape[axis],\n",
    "        step=step,\n",
    "    )\n",
    "\n",
    "\n",
    "a = tf.stack([\n",
    "        tf.range(0, 13),\n",
    "        tf.range(0, 13),\n",
    "    ])\n",
    "axis = 1\n",
    "\n",
    "_TODO_rm_array_sample(\n",
    "    a,\n",
    "    axis=axis,\n",
    "    step=2,\n",
    ")\n",
    "\n",
    "_array_sample(\n",
    "    a,\n",
    "    axis=axis,\n",
    "    n_samples=2,\n",
    ")"
   ]
  },
  {
   "cell_type": "code",
   "execution_count": null,
   "id": "75bf839a-6c35-49a3-b476-a28e11c60f2b",
   "metadata": {},
   "outputs": [],
   "source": [
    "# last = stop - 1\n",
    "# first + num * interval = last"
   ]
  },
  {
   "cell_type": "code",
   "execution_count": 53,
   "id": "41bb30a5-a2d5-4997-913c-971bbc31dd3e",
   "metadata": {},
   "outputs": [],
   "source": [
    "r = tf.range(0, 13)\n"
   ]
  },
  {
   "cell_type": "code",
   "execution_count": 73,
   "id": "3c99d8bc-ec2e-4ef0-b77d-eec9e7825e7c",
   "metadata": {},
   "outputs": [
    {
     "name": "stdout",
     "output_type": "stream",
     "text": [
      "1 (2,)\n",
      "2 (2,)\n",
      "3 (3,)\n",
      "4 (4,)\n",
      "5 (5,)\n",
      "6 (6,)\n",
      "7 (7,)\n",
      "8 (8,)\n",
      "9 (9,)\n",
      "10 (10,)\n",
      "11 (11,)\n",
      "12 (12,)\n"
     ]
    }
   ],
   "source": [
    "for num in range(1, 13):\n",
    "    first, last = r[0], r[-1]\n",
    "    n_intervals = num - 1\n",
    "    last -= (last - first) % n_intervals\n",
    "    step = (last - first) // n_intervals\n",
    "    \n",
    "    print(num, r[first:last + 1:step].shape)"
   ]
  },
  {
   "cell_type": "code",
   "execution_count": null,
   "id": "a475c05e-6fce-4eeb-90b7-d96bc07528b3",
   "metadata": {},
   "outputs": [],
   "source": [
    "_aligned_interval = lambda first, last, n: (\n",
    "    first,\n",
    "    last - (last - first) % n,\n",
    "    (last - first) // n,\n",
    ")"
   ]
  },
  {
   "cell_type": "code",
   "execution_count": 66,
   "id": "2f00ccbc-2091-4d6d-8f55-b0cca86c8417",
   "metadata": {},
   "outputs": [
    {
     "data": {
      "text/plain": [
       "<tf.Tensor: shape=(), dtype=float64, numpy=2.0>"
      ]
     },
     "execution_count": 66,
     "metadata": {},
     "output_type": "execute_result"
    }
   ],
   "source": [
    "(last - first) / n_intervals"
   ]
  },
  {
   "cell_type": "code",
   "execution_count": 62,
   "id": "7cbfe0a6-3250-41ad-b728-6164188e4374",
   "metadata": {},
   "outputs": [
    {
     "data": {
      "text/plain": [
       "<tf.Tensor: shape=(), dtype=int32, numpy=10>"
      ]
     },
     "execution_count": 62,
     "metadata": {},
     "output_type": "execute_result"
    }
   ],
   "source": [
    "last"
   ]
  },
  {
   "cell_type": "code",
   "execution_count": 50,
   "id": "57c4a631-4465-4d85-bb5d-03f56a115b9d",
   "metadata": {},
   "outputs": [
    {
     "data": {
      "text/plain": [
       "12"
      ]
     },
     "execution_count": 50,
     "metadata": {},
     "output_type": "execute_result"
    }
   ],
   "source": [
    "0 + 4 * 3"
   ]
  },
  {
   "cell_type": "code",
   "execution_count": 37,
   "id": "d76df871-9167-4b2b-b1ee-bcb9031e7587",
   "metadata": {},
   "outputs": [
    {
     "data": {
      "text/plain": [
       "<tf.Tensor: shape=(13,), dtype=int32, numpy=array([ 0,  1,  2,  3,  4,  5,  6,  7,  8,  9, 10, 11, 12], dtype=int32)>"
      ]
     },
     "execution_count": 37,
     "metadata": {},
     "output_type": "execute_result"
    }
   ],
   "source": [
    "tf.range(0, 13)"
   ]
  },
  {
   "cell_type": "code",
   "execution_count": null,
   "id": "6a71579c-cd91-4833-812b-100e4e120033",
   "metadata": {},
   "outputs": [],
   "source": [
    "0 1 2 3 4 5"
   ]
  },
  {
   "cell_type": "code",
   "execution_count": 35,
   "id": "5297505a-d66b-4274-8f28-22fc14359a9a",
   "metadata": {},
   "outputs": [
    {
     "data": {
      "text/plain": [
       "3.25"
      ]
     },
     "execution_count": 35,
     "metadata": {},
     "output_type": "execute_result"
    }
   ],
   "source": [
    "13/4"
   ]
  },
  {
   "cell_type": "code",
   "execution_count": 32,
   "id": "337db28b-d471-4fb4-92ff-cb512a6e238a",
   "metadata": {},
   "outputs": [
    {
     "data": {
      "text/plain": [
       "2.6"
      ]
     },
     "execution_count": 32,
     "metadata": {},
     "output_type": "execute_result"
    }
   ],
   "source": [
    "13/5"
   ]
  },
  {
   "cell_type": "code",
   "execution_count": null,
   "id": "6bf28574-83fd-458a-8594-7468e03b1509",
   "metadata": {},
   "outputs": [],
   "source": []
  },
  {
   "cell_type": "code",
   "execution_count": 28,
   "id": "b291ce16-2fcb-4566-b806-ad48c04c4095",
   "metadata": {},
   "outputs": [
    {
     "data": {
      "text/plain": [
       "2"
      ]
     },
     "execution_count": 28,
     "metadata": {},
     "output_type": "execute_result"
    }
   ],
   "source": [
    "13//5"
   ]
  },
  {
   "cell_type": "code",
   "execution_count": null,
   "id": "f43c6639-badb-4b17-a515-7e8b013ef3cd",
   "metadata": {},
   "outputs": [],
   "source": [
    "#0 3 6 9 12"
   ]
  },
  {
   "cell_type": "code",
   "execution_count": 24,
   "id": "30d917a4-c03a-4cd5-9d11-bee6f4e16ada",
   "metadata": {},
   "outputs": [
    {
     "data": {
      "text/plain": [
       "<tf.Tensor: shape=(13,), dtype=int32, numpy=array([ 0,  1,  2,  3,  4,  5,  6,  7,  8,  9, 10, 11, 12], dtype=int32)>"
      ]
     },
     "execution_count": 24,
     "metadata": {},
     "output_type": "execute_result"
    }
   ],
   "source": [
    "tf.range(0, 13)"
   ]
  },
  {
   "cell_type": "code",
   "execution_count": 13,
   "id": "84ee39f3-2de5-4a52-b811-fc27222735de",
   "metadata": {},
   "outputs": [
    {
     "data": {
      "text/plain": [
       "2"
      ]
     },
     "execution_count": 13,
     "metadata": {},
     "output_type": "execute_result"
    }
   ],
   "source": [
    "tf.stack([\n",
    "    tf.range(0, 10),\n",
    "    tf.range(0, 10),\n",
    "]).ndim #[slice(None), 0:9:2]"
   ]
  },
  {
   "cell_type": "code",
   "execution_count": 8,
   "id": "86314042-32db-4c5e-97a4-1935316ce0ba",
   "metadata": {},
   "outputs": [
    {
     "ename": "InvalidArgumentError",
     "evalue": "{{function_node __wrapped__Pack_N_2_device_/job:localhost/replica:0/task:0/device:GPU:0}} Shapes of all inputs must match: values[0].shape = [10] != values[1].shape = [12] [Op:Pack] name: stack",
     "output_type": "error",
     "traceback": [
      "\u001b[0;31m---------------------------------------------------------------------------\u001b[0m",
      "\u001b[0;31mInvalidArgumentError\u001b[0m                      Traceback (most recent call last)",
      "Cell \u001b[0;32mIn[8], line 1\u001b[0m\n\u001b[0;32m----> 1\u001b[0m \u001b[43mtf\u001b[49m\u001b[38;5;241;43m.\u001b[39;49m\u001b[43mstack\u001b[49m\u001b[43m(\u001b[49m\u001b[43m[\u001b[49m\n\u001b[1;32m      2\u001b[0m \u001b[43m    \u001b[49m\u001b[43mtf\u001b[49m\u001b[38;5;241;43m.\u001b[39;49m\u001b[43mrange\u001b[49m\u001b[43m(\u001b[49m\u001b[38;5;241;43m0\u001b[39;49m\u001b[43m,\u001b[49m\u001b[43m \u001b[49m\u001b[38;5;241;43m10\u001b[39;49m\u001b[43m)\u001b[49m\u001b[43m,\u001b[49m\n\u001b[1;32m      3\u001b[0m \u001b[43m    \u001b[49m\u001b[43mtf\u001b[49m\u001b[38;5;241;43m.\u001b[39;49m\u001b[43mrange\u001b[49m\u001b[43m(\u001b[49m\u001b[38;5;241;43m0\u001b[39;49m\u001b[43m,\u001b[49m\u001b[43m \u001b[49m\u001b[38;5;241;43m12\u001b[39;49m\u001b[43m)\u001b[49m\u001b[43m,\u001b[49m\n\u001b[1;32m      4\u001b[0m \u001b[43m]\u001b[49m\u001b[43m)\u001b[49m\n",
      "File \u001b[0;32m/opt/tljh/user/envs/essentials/lib/python3.11/site-packages/tensorflow/python/util/traceback_utils.py:153\u001b[0m, in \u001b[0;36mfilter_traceback.<locals>.error_handler\u001b[0;34m(*args, **kwargs)\u001b[0m\n\u001b[1;32m    151\u001b[0m \u001b[38;5;28;01mexcept\u001b[39;00m \u001b[38;5;167;01mException\u001b[39;00m \u001b[38;5;28;01mas\u001b[39;00m e:\n\u001b[1;32m    152\u001b[0m   filtered_tb \u001b[38;5;241m=\u001b[39m _process_traceback_frames(e\u001b[38;5;241m.\u001b[39m__traceback__)\n\u001b[0;32m--> 153\u001b[0m   \u001b[38;5;28;01mraise\u001b[39;00m e\u001b[38;5;241m.\u001b[39mwith_traceback(filtered_tb) \u001b[38;5;28;01mfrom\u001b[39;00m \u001b[38;5;28;01mNone\u001b[39;00m\n\u001b[1;32m    154\u001b[0m \u001b[38;5;28;01mfinally\u001b[39;00m:\n\u001b[1;32m    155\u001b[0m   \u001b[38;5;28;01mdel\u001b[39;00m filtered_tb\n",
      "File \u001b[0;32m/opt/tljh/user/envs/essentials/lib/python3.11/site-packages/tensorflow/python/framework/ops.py:5888\u001b[0m, in \u001b[0;36mraise_from_not_ok_status\u001b[0;34m(e, name)\u001b[0m\n\u001b[1;32m   5886\u001b[0m \u001b[38;5;28;01mdef\u001b[39;00m \u001b[38;5;21mraise_from_not_ok_status\u001b[39m(e, name) \u001b[38;5;241m-\u001b[39m\u001b[38;5;241m>\u001b[39m NoReturn:\n\u001b[1;32m   5887\u001b[0m   e\u001b[38;5;241m.\u001b[39mmessage \u001b[38;5;241m+\u001b[39m\u001b[38;5;241m=\u001b[39m (\u001b[38;5;124m\"\u001b[39m\u001b[38;5;124m name: \u001b[39m\u001b[38;5;124m\"\u001b[39m \u001b[38;5;241m+\u001b[39m \u001b[38;5;28mstr\u001b[39m(name \u001b[38;5;28;01mif\u001b[39;00m name \u001b[38;5;129;01mis\u001b[39;00m \u001b[38;5;129;01mnot\u001b[39;00m \u001b[38;5;28;01mNone\u001b[39;00m \u001b[38;5;28;01melse\u001b[39;00m \u001b[38;5;124m\"\u001b[39m\u001b[38;5;124m\"\u001b[39m))\n\u001b[0;32m-> 5888\u001b[0m   \u001b[38;5;28;01mraise\u001b[39;00m core\u001b[38;5;241m.\u001b[39m_status_to_exception(e) \u001b[38;5;28;01mfrom\u001b[39;00m \u001b[38;5;28;01mNone\u001b[39;00m\n",
      "\u001b[0;31mInvalidArgumentError\u001b[0m: {{function_node __wrapped__Pack_N_2_device_/job:localhost/replica:0/task:0/device:GPU:0}} Shapes of all inputs must match: values[0].shape = [10] != values[1].shape = [12] [Op:Pack] name: stack"
     ]
    }
   ],
   "source": []
  },
  {
   "cell_type": "code",
   "execution_count": null,
   "id": "1ed7fade-aad0-47d2-902e-8d7a135c0759",
   "metadata": {},
   "outputs": [],
   "source": []
  }
 ],
 "metadata": {
  "kernelspec": {
   "display_name": "Python [conda env:essentials]",
   "language": "python",
   "name": "conda-env-essentials-py"
  },
  "language_info": {
   "codemirror_mode": {
    "name": "ipython",
    "version": 3
   },
   "file_extension": ".py",
   "mimetype": "text/x-python",
   "name": "python",
   "nbconvert_exporter": "python",
   "pygments_lexer": "ipython3",
   "version": "3.11.6"
  }
 },
 "nbformat": 4,
 "nbformat_minor": 5
}
